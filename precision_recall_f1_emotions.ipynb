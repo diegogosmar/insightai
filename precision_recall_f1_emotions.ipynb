{
 "cells": [
  {
   "cell_type": "code",
   "execution_count": 1,
   "id": "aa8f6fa7",
   "metadata": {},
   "outputs": [
    {
     "name": "stdout",
     "output_type": "stream",
     "text": [
      "Precision: 0.85624999999999995559\n",
      "Recall: 0.79651162790697671578\n",
      "F1-Score: 0.82530120481927715659\n"
     ]
    }
   ],
   "source": [
    "import pandas as pd\n",
    "from sklearn.metrics import precision_recall_fscore_support\n",
    "\n",
    "# Load the data from a CSV file\n",
    "# Replace 'your_local_folder/assessment.csv' with the actual path to your CSV file\n",
    "data = pd.read_csv('~/Diego/AI/Emotional_Situations/ml/assessment_emotion_1000.csv', sep=';')\n",
    "\n",
    "data.head(5)\n",
    "\n",
    "# Assuming your CSV has columns named 'Labeled Risk' and 'Predicted Risk'\n",
    "# Convert risks to binary classification (0 or 1)\n",
    "# Assuming risks >= 1 are positives (1) and the rest are negatives (0)\n",
    "data['Labeled Risk Binary'] = (data['Ground_Truth_Risk'] >= 1).astype(int)\n",
    "data['Predicted Risk Binary'] = (data['Predicted_Risk'] >= 1.0).astype(int)\n",
    "\n",
    "# Calculate precision, recall, and F1-score\n",
    "precision, recall, f1_score, _ = precision_recall_fscore_support(\n",
    "    data['Labeled Risk Binary'], data['Predicted Risk Binary'], average='binary')\n",
    "\n",
    "print(f'Precision: {precision:.20f}')\n",
    "print(f'Recall: {recall:.20f}')\n",
    "print(f'F1-Score: {f1_score:.20f}')"
   ]
  },
  {
   "cell_type": "code",
   "execution_count": 2,
   "id": "cc288220",
   "metadata": {},
   "outputs": [
    {
     "name": "stdout",
     "output_type": "stream",
     "text": [
      "Accuracy: 0.942\n",
      "ROC AUC: 0.8843669250645996\n",
      "Matthews Correlation Coefficient: 0.7913265963459145\n"
     ]
    }
   ],
   "source": [
    "from sklearn.metrics import accuracy_score, confusion_matrix, roc_auc_score, matthews_corrcoef\n",
    "\n",
    "# Additional metrics calculations\n",
    "accuracy = accuracy_score(data['Labeled Risk Binary'], data['Predicted Risk Binary'])\n",
    "conf_matrix = confusion_matrix(data['Labeled Risk Binary'], data['Predicted Risk Binary'])\n",
    "roc_auc = roc_auc_score(data['Labeled Risk Binary'], data['Predicted Risk Binary'])\n",
    "mcc = matthews_corrcoef(data['Labeled Risk Binary'], data['Predicted Risk Binary'])\n",
    "\n",
    "print(f'Accuracy: {accuracy}')\n",
    "#print(f'Confusion Matrix:\\n{conf_matrix}')\n",
    "print(f'ROC AUC: {roc_auc}')\n",
    "print(f'Matthews Correlation Coefficient: {mcc}')"
   ]
  },
  {
   "cell_type": "code",
   "execution_count": 3,
   "id": "9bf95137",
   "metadata": {
    "scrolled": true
   },
   "outputs": [
    {
     "name": "stdout",
     "output_type": "stream",
     "text": [
      "Precision: 0.856\n",
      "Recall: 0.797\n",
      "F1-Score: 0.825\n",
      "Accuracy: 0.942\n",
      "ROC AUC: 0.884\n",
      "Matthews Correlation Coefficient: 0.791\n"
     ]
    }
   ],
   "source": [
    "precision = round(precision, 3)\n",
    "recall = round(recall, 3)\n",
    "f1_score = round(f1_score, 3)\n",
    "accuracy = round(accuracy, 3)\n",
    "roc_auc = round(roc_auc, 3)\n",
    "mcc = round(mcc, 3)\n",
    "\n",
    "print(f'Precision: {precision}')\n",
    "print(f'Recall: {recall}')\n",
    "print(f'F1-Score: {f1_score}')\n",
    "print(f'Accuracy: {accuracy}')\n",
    "print(f'ROC AUC: {roc_auc}')\n",
    "print(f'Matthews Correlation Coefficient: {mcc}')"
   ]
  }
 ],
 "metadata": {
  "kernelspec": {
   "display_name": "Python 3 (ipykernel)",
   "language": "python",
   "name": "python3"
  },
  "language_info": {
   "codemirror_mode": {
    "name": "ipython",
    "version": 3
   },
   "file_extension": ".py",
   "mimetype": "text/x-python",
   "name": "python",
   "nbconvert_exporter": "python",
   "pygments_lexer": "ipython3",
   "version": "3.9.7"
  }
 },
 "nbformat": 4,
 "nbformat_minor": 5
}
