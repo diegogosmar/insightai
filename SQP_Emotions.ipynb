{
 "cells": [
  {
   "cell_type": "code",
   "execution_count": 1,
   "id": "2909987f",
   "metadata": {},
   "outputs": [
    {
     "name": "stdout",
     "output_type": "stream",
     "text": [
      "Optimization successful. Solution:\n",
      "[1.15093311 1.04553737 0.28123656 1.04856368]\n"
     ]
    }
   ],
   "source": [
    "from scipy.optimize import minimize\n",
    "\n",
    "# Objective function to minimize\n",
    "def objective(X):\n",
    "    return X[0]**2 + X[1]**2 + X[2]**2 + X[3]**2\n",
    "\n",
    "# Constraint functions\n",
    "def constraint1_ineq(X):\n",
    "    # 0.59*X1 + 0.5*X2 + 0.24*X3 + 0.22*X4 > 1.5\n",
    "    return 0.59*X[0] + 0.5*X[1] + 0.24*X[2] + 0.22*X[3] - 1.5\n",
    "\n",
    "def constraint2_ineq(X):\n",
    "    # 0.25*X1 + 0.26*X2 + 0.57*X4 > 1\n",
    "    return 0.25*X[0] + 0.26*X[1] + 0.57*X[3] - 1\n",
    "\n",
    "def constraint3_eq(X):\n",
    "    # 0.25*X1 + 0.25*X2 + 0.43*X4 = 1\n",
    "    return 0.25*X[0] + 0.25*X[1] + 0.43*X[3] - 1\n",
    "\n",
    "# Constraints for the optimizer\n",
    "constraints = [\n",
    "    {'type': 'ineq', 'fun': constraint1_ineq},\n",
    "    {'type': 'ineq', 'fun': constraint2_ineq},\n",
    "    {'type': 'eq', 'fun': constraint3_eq}\n",
    "]\n",
    "\n",
    "# Bounds (X1, X2, X3, X4 > 0)\n",
    "bounds = [(0, None), (0, None), (0, None), (0, None)]\n",
    "\n",
    "# Initial guess\n",
    "initial_guess = [1, 1, 1, 1]\n",
    "\n",
    "# Perform the optimization\n",
    "result = minimize(objective, initial_guess, method='SLSQP', bounds=bounds, constraints=constraints)\n",
    "\n",
    "# Check if the optimization was successful and print the result\n",
    "if result.success:\n",
    "    print(\"Optimization successful. Solution:\")\n",
    "    print(result.x)\n",
    "else:\n",
    "    print(\"Optimization failed. No solution found.\")\n"
   ]
  },
  {
   "cell_type": "code",
   "execution_count": null,
   "id": "07ddaa92",
   "metadata": {},
   "outputs": [],
   "source": []
  }
 ],
 "metadata": {
  "kernelspec": {
   "display_name": "Python 3 (ipykernel)",
   "language": "python",
   "name": "python3"
  },
  "language_info": {
   "codemirror_mode": {
    "name": "ipython",
    "version": 3
   },
   "file_extension": ".py",
   "mimetype": "text/x-python",
   "name": "python",
   "nbconvert_exporter": "python",
   "pygments_lexer": "ipython3",
   "version": "3.9.7"
  }
 },
 "nbformat": 4,
 "nbformat_minor": 5
}
